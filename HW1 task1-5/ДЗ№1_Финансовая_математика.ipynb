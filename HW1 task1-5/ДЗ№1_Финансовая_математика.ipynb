{
  "nbformat": 4,
  "nbformat_minor": 0,
  "metadata": {
    "colab": {
      "provenance": []
    },
    "kernelspec": {
      "name": "python3",
      "display_name": "Python 3"
    },
    "language_info": {
      "name": "python"
    }
  },
  "cells": [
    {
      "cell_type": "markdown",
      "source": [
        "**Задача №1.** Инвестор купил акцию 6 лет назад по цене $10. Сейчас он продал ее за 50 долларов. Определить, какую доходность принесла ему эта инвестиция в процентах годовых."
      ],
      "metadata": {
        "id": "lZSV60KgETZF"
      }
    },
    {
      "cell_type": "markdown",
      "source": [
        "Для расчета доходности, которая принесла инвестиция в процентах годовых будем рассчитывать используя следующую формулу: FV = PV * (1 + r)^n, откуда ставка накопления (дисконтирования):\n",
        "\n",
        "$$ r = \\left(\\frac{FV}{PV}\\right)^{\\frac{1}{n}} - 1, где: $$\n",
        "\n",
        "$FV$ - будущая стоимость ден.ед.,<br>\n",
        "$PV$ - начальная стоимость ден.ед.,<br>\n",
        "$n$ - количество лет (период времени), в течение которых была сделана инвестиция."
      ],
      "metadata": {
        "id": "pFhvtXZ7F4bX"
      }
    },
    {
      "cell_type": "code",
      "source": [
        "FV = 50\n",
        "PV = 10\n",
        "n = 6"
      ],
      "metadata": {
        "id": "m3K_vziMF4uf"
      },
      "execution_count": 3,
      "outputs": []
    },
    {
      "cell_type": "code",
      "source": [
        "r = ((FV/PV) ** (1/6)) - 1\n",
        "print(round(r, 4))"
      ],
      "metadata": {
        "colab": {
          "base_uri": "https://localhost:8080/"
        },
        "id": "eZRPyX8WHrx2",
        "outputId": "50360c49-b544-4ed4-e848-d2a8b64c4263"
      },
      "execution_count": 9,
      "outputs": [
        {
          "output_type": "stream",
          "name": "stdout",
          "text": [
            "0.3077\n"
          ]
        }
      ]
    },
    {
      "cell_type": "markdown",
      "source": [
        "**Ответ:** Доходность инвестиции 30.77% годовых."
      ],
      "metadata": {
        "id": "zbDkV13jIGrp"
      }
    },
    {
      "cell_type": "markdown",
      "source": [
        "**Задача №2.** Инвестору исполнилось только что 30 лет. Он хочет выйти на пенсию в 60 лет и жить на доход с капитала. Допустим, его целевой уровень капитала к пенсии составляет $350 000. Если он ожидает ставку доходности на рынке порядка 8% годовых, то какую сумму ему надо инвестировать каждый год для достижения цели?"
      ],
      "metadata": {
        "id": "dh6g4JNyEhpd"
      }
    },
    {
      "cell_type": "markdown",
      "source": [
        "Для определения необходимой суммы инвестиций каждый год для достижения цели воспользуемся следующей формулой:\n",
        "\n",
        "$$ PMT = \\frac{FV \\cdot r}{(1 + r)^n - 1}, где: $$\n",
        "\n",
        "$PMT$ - платеж, необходимый для накопления в будущем определенной суммы в ден. ед.,<br> $FV$ - будущая стоимость инвестиции, <br> $r$ - ставка накопления дисконтирования в доли ед., <br> $n$ - интервал времени, период времени\n"
      ],
      "metadata": {
        "id": "-wLlbnkfLNPo"
      }
    },
    {
      "cell_type": "code",
      "source": [
        "FV = 350000\n",
        "r = 0.08\n",
        "n = 60-30"
      ],
      "metadata": {
        "id": "Osr2Ji7OLIt_"
      },
      "execution_count": 6,
      "outputs": []
    },
    {
      "cell_type": "code",
      "source": [
        "PMT = (FV * r) / (((1+ r) ** n) - 1)\n",
        "print(round(PMT, 2))"
      ],
      "metadata": {
        "colab": {
          "base_uri": "https://localhost:8080/"
        },
        "id": "8GdWWkAY6ieu",
        "outputId": "80475fa8-39fb-41f6-c2e7-17eaf9be3627"
      },
      "execution_count": 10,
      "outputs": [
        {
          "output_type": "stream",
          "name": "stdout",
          "text": [
            "3089.6\n"
          ]
        }
      ]
    },
    {
      "cell_type": "markdown",
      "source": [
        "**Ответ:** Для достижения цели (уровень капитала к пенсии 350 000 $) 30 летнему инвестору необходимо инвестировать каждый год 3089.60 долларов."
      ],
      "metadata": {
        "id": "-c3e6Ctp7dNx"
      }
    },
    {
      "cell_type": "markdown",
      "source": [
        "**Задача №3.** Человек взял ипотечный кредит на сумму 8 млн руб., на 20 лет под 10% годовых. Погашение кредита будет происходить ежемесячными аннуитетными платежами. Определить, сколько составит общая переплата (сумма процентов) по кредиту."
      ],
      "metadata": {
        "id": "clmwY56oEhyP"
      }
    },
    {
      "cell_type": "markdown",
      "source": [
        "Для начала определим размер ежемесячного платежа по кредиту, для этого воспользуемся следующей формулой:\n",
        "\n",
        "$$ PMT = \\frac{PV \\cdot r}{1 - (1 + r)^-n }, где: $$\n",
        "\n",
        "$PV$ - текущая стоимость, ден.ед.,<br>\n",
        "$r$ - ставка накопления дисконтирования в доли ед., <br>\n",
        "$n$ - интервал времени, период времени (месяцы)"
      ],
      "metadata": {
        "id": "E0g3rEvxSi6q"
      }
    },
    {
      "cell_type": "code",
      "source": [
        "PV = 8000000\n",
        "r = (10/12/100)\n",
        "n = 20*12\n",
        "print(r, n)"
      ],
      "metadata": {
        "colab": {
          "base_uri": "https://localhost:8080/"
        },
        "id": "CG5UBjFkU-x-",
        "outputId": "48feda51-9fe5-4fe4-8be4-4a97afe00d33"
      },
      "execution_count": 19,
      "outputs": [
        {
          "output_type": "stream",
          "name": "stdout",
          "text": [
            "0.008333333333333333 240\n"
          ]
        }
      ]
    },
    {
      "cell_type": "code",
      "source": [
        "PMT = (PV * r) / ((1 - (1+ r) ** (-n)))\n",
        "print(round(PMT, 2))"
      ],
      "metadata": {
        "colab": {
          "base_uri": "https://localhost:8080/"
        },
        "id": "SV7jjYQNWAEn",
        "outputId": "3f66ac43-bcd9-4a1d-95e0-bae1644f58e8"
      },
      "execution_count": 20,
      "outputs": [
        {
          "output_type": "stream",
          "name": "stdout",
          "text": [
            "77201.73\n"
          ]
        }
      ]
    },
    {
      "cell_type": "markdown",
      "source": [
        "Найдем общую сумму выплат за весь период кредита:$$ ∑PMT = PMT * n $$"
      ],
      "metadata": {
        "id": "pXMb2di1W842"
      }
    },
    {
      "cell_type": "code",
      "source": [
        "sumPMT = PMT * n\n",
        "print(round((sumPMT), 2))"
      ],
      "metadata": {
        "colab": {
          "base_uri": "https://localhost:8080/"
        },
        "id": "CtdWv7mAXyNI",
        "outputId": "b75182f1-377b-494e-a558-acf02059fa7d"
      },
      "execution_count": 25,
      "outputs": [
        {
          "output_type": "stream",
          "name": "stdout",
          "text": [
            "18528415.59\n"
          ]
        }
      ]
    },
    {
      "cell_type": "markdown",
      "source": [
        "Общая переплата по кредиту составит:\n"
      ],
      "metadata": {
        "id": "zP-QEUbqYZUW"
      }
    },
    {
      "cell_type": "code",
      "source": [
        "overpayment = sumPMT - PV\n",
        "print(round((overpayment), 2))"
      ],
      "metadata": {
        "colab": {
          "base_uri": "https://localhost:8080/"
        },
        "id": "LxxFe1hvYlrr",
        "outputId": "b8b6f1a8-c598-4e43-ab25-ef5c9643573b"
      },
      "execution_count": 28,
      "outputs": [
        {
          "output_type": "stream",
          "name": "stdout",
          "text": [
            "10528415.59\n"
          ]
        }
      ]
    },
    {
      "cell_type": "markdown",
      "source": [
        "**Ответ:** Общая переплата по кредиту составляет: 10 528 415,59 руб."
      ],
      "metadata": {
        "id": "yr97v3kLaJ9i"
      }
    },
    {
      "cell_type": "markdown",
      "source": [
        "**Задача №4.** Известно, что безрисковая ставка на рынке составляет 1%, инфляция ожидается 6% годовых и для данного проекта премия за риск равна 4%. Пусть ставка дисконтирования определяется как сумма этих трех составляющих, тогда чему равна приведенная стоимость потоков по проекту, если в первый год ожидается 2000 долларов, во второй 5000 долларов и в третьем году проект будет продан за $10000?"
      ],
      "metadata": {
        "id": "4qpsxgZiEh70"
      }
    },
    {
      "cell_type": "markdown",
      "source": [
        "Для расчета приведенной стоимости потоков по проекту воспользуемся следующей  формулой:\n",
        "$$ PV =\\frac{FV}{(1 + r)^n}, где: $$\n",
        "\n",
        "$FV$ - будущая стоимость ден.ед.,<br>\n",
        "$r$ - ставка накопления дисконтирования в доли ед., <br>\n",
        "$n$ - количество лет (период времени)\n",
        "\n",
        "Откуда формула приведенной стоимости потоков за три года примет следующий вид:\n",
        "$$\n",
        "PV = \\frac{FV_1}{(1 + r)^1} + \\frac{FV_2}{(1 + r)^2} + \\frac{FV_3}{(1 + r)^3}\n",
        "$$"
      ],
      "metadata": {
        "id": "yiUb6KBIYKTH"
      }
    },
    {
      "cell_type": "markdown",
      "source": [
        "Ставка дисконтирования согласно условию задачи определим как: сумму безрисковой ставки (1%), ожидаемой инфляции (6%) и премии за риск (4%). <br>\n",
        "Итого: r = 11%"
      ],
      "metadata": {
        "id": "TPHRp6jda71_"
      }
    },
    {
      "cell_type": "code",
      "source": [
        "r = 11 / 100\n",
        "FV1 = 2000\n",
        "FV2 = 5000\n",
        "FV3 = 10000"
      ],
      "metadata": {
        "id": "kqyeLjmObr6m"
      },
      "execution_count": 1,
      "outputs": []
    },
    {
      "cell_type": "code",
      "source": [
        "PV = FV1 / ((1 + r) ** 1) + FV2 / ((1 + r) ** 2) + FV3 / ((1 + r) ** 3)\n",
        "print(round((PV), 2))"
      ],
      "metadata": {
        "colab": {
          "base_uri": "https://localhost:8080/"
        },
        "id": "slI4INnecEC8",
        "outputId": "8eeb94f2-f793-41e8-89dd-39969b94038b"
      },
      "execution_count": 2,
      "outputs": [
        {
          "output_type": "stream",
          "name": "stdout",
          "text": [
            "13171.83\n"
          ]
        }
      ]
    },
    {
      "cell_type": "markdown",
      "source": [
        "**Ответ:** Приведенная стоимость потоков по проекту составит: 13 171.83 $"
      ],
      "metadata": {
        "id": "nYs3B25wco_-"
      }
    },
    {
      "cell_type": "markdown",
      "source": [
        "**Задача №5.** Что выгодней: положить деньги на депозит под 11% годовых с ежемесячной капитализацией или на депозит под 11,5% с ежегодной капитализацией процентов?"
      ],
      "metadata": {
        "id": "XJ3wQt4IEiWn"
      }
    },
    {
      "cell_type": "code",
      "source": [
        "r1 = 11/100\n",
        "r2 = 11.5/100\n",
        "n = 12\n",
        "t = 1"
      ],
      "metadata": {
        "id": "2JaU8N6DrksD"
      },
      "execution_count": 7,
      "outputs": []
    },
    {
      "cell_type": "markdown",
      "source": [
        "Эффективную годовую процентную ставку EIR для депозита с ежемесячной капитализацией, определим по следующей формуле:\n",
        "\n",
        "$$ EIR = (1 + \\frac{r_1} {n}) ^{n*t} - 1, где: $$\n",
        "\n",
        "$r_1$ — ставка накопления дисконтирования в доли ед., <br>\n",
        "n — количество периодов капитализации в году (месяцев),<br>\n",
        "t — срок депозита в годах"
      ],
      "metadata": {
        "id": "1Wuf6UBPhEHy"
      }
    },
    {
      "cell_type": "code",
      "source": [
        "EIR = ((1 + (r1/n)) ** (n * t)) - 1\n",
        "print((round((EIR), 4) * 100))"
      ],
      "metadata": {
        "colab": {
          "base_uri": "https://localhost:8080/"
        },
        "id": "jM4VUAKJsGlg",
        "outputId": "1d88f0d6-442e-4a56-e822-200556f6f2c6"
      },
      "execution_count": 11,
      "outputs": [
        {
          "output_type": "stream",
          "name": "stdout",
          "text": [
            "11.57\n"
          ]
        }
      ]
    },
    {
      "cell_type": "markdown",
      "source": [
        "Итого: эффективная годовая процентная ставка EIR для депозита с ежемесячной капитализацией составила: 11.57 %"
      ],
      "metadata": {
        "id": "UVQAoTrRuji0"
      }
    },
    {
      "cell_type": "markdown",
      "source": [
        "**Ответ:** Таким образом исходя из выше приведенного расчета, выгоднее положить деньги на депозит под 11% годовых с ежемесячной капитализацией.\n",
        "\n"
      ],
      "metadata": {
        "id": "O0WglyxWtojv"
      }
    }
  ]
}