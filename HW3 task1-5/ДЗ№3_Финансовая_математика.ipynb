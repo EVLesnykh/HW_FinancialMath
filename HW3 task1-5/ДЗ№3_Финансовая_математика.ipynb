{
  "nbformat": 4,
  "nbformat_minor": 0,
  "metadata": {
    "colab": {
      "provenance": []
    },
    "kernelspec": {
      "name": "python3",
      "display_name": "Python 3"
    },
    "language_info": {
      "name": "python"
    }
  },
  "cells": [
    {
      "cell_type": "code",
      "source": [
        "import numpy as np"
      ],
      "metadata": {
        "id": "DzeImMxreu2B"
      },
      "execution_count": 2,
      "outputs": []
    },
    {
      "cell_type": "markdown",
      "source": [
        "**Задача 1.** Аналитик собрал статистику за 36 прошедших месяцев, согласно которой вложение в акцию компании АВС позволило за месяц заработать 15% в 1 случае из 36 проанализированных месяцев, 10% - в 2 случаях, 5% - в 3 случаях, 0% в 23 случаях, потерять 5% в 6 случаях, и потерять 10% в оставшихся случаях. Определить ожидаемое значение доходности инвестиции."
      ],
      "metadata": {
        "id": "6be07GQ08uLQ"
      }
    },
    {
      "cell_type": "markdown",
      "source": [
        "Ожидаемое значение доходности инвестиции определим по формуле:\n",
        "\n",
        "$$E = \\sum_{i=1}^{n} R_{i} \\cdot P_{i}, где:$$\n",
        "\n",
        "$R_{i}$ - значение i доходности, <br>\n",
        "$P_{i}$ - вероятность получения доходности $R_{i}$, <br>\n",
        "$n$ - количество потенциальных значений доходности"
      ],
      "metadata": {
        "id": "m93E_9yiArfK"
      }
    },
    {
      "cell_type": "code",
      "source": [
        "r_i = np.array([0.15, 0.10, 0.05, 0.00, -0.05, -0.10])\n",
        "p_i = np.array([1/36, 2/36, 3/36, 23/36, 6/36, 1/36])"
      ],
      "metadata": {
        "id": "6s5nLRTfenax"
      },
      "execution_count": null,
      "outputs": []
    },
    {
      "cell_type": "code",
      "source": [
        "E = np.sum(r_i*p_i)\n",
        "print(round(M*100, 2))"
      ],
      "metadata": {
        "colab": {
          "base_uri": "https://localhost:8080/"
        },
        "id": "hm565LJgfY-3",
        "outputId": "4ec35d89-a92c-4755-d526-edc415eb56e1"
      },
      "execution_count": null,
      "outputs": [
        {
          "output_type": "stream",
          "name": "stdout",
          "text": [
            "0.28\n"
          ]
        }
      ]
    },
    {
      "cell_type": "markdown",
      "source": [
        "**Ответ:** Ожидаемое значение доходности инвестиции: 0.28 %"
      ],
      "metadata": {
        "id": "5BBCCVySgaGP"
      }
    },
    {
      "cell_type": "markdown",
      "source": [
        "**Задача 2.** Инвестиционный фонд за 7 предыдущих лет заработал следующие годовые доходности: +5%; -2%; +12%; +7%; -4%; +11%; +9%. Если предположить, что в среднем фонд будет зарабатывать такую же доходность, как и по итогам прошедших 7 лет (в смысле геометрической доходности), и вложить $100 тыс. в этот фонд, то какой ожидаемый результат будет через 5 лет?"
      ],
      "metadata": {
        "id": "aKiybmCi8vIq"
      }
    },
    {
      "cell_type": "markdown",
      "source": [
        "Определим среднюю доходность инвестиционного фонда за период в n лет (n = 7 лет) по формуле:\n",
        "$$Ravg = \\left( \\prod_{t=1}^{n} (1 + r_i) \\right)^{1/n} - 1, где: $$\n",
        "\n",
        "$r_i$ - доходность за год в i год, <br>\n",
        "n - число лет,<br>\n",
        "$\\prod_{t=1}^{n}$ - знак произведения; он говорит нам о том, что перемножаются годы с доходностями, начиная от $r_1$ до $r_n$.\n",
        "\n"
      ],
      "metadata": {
        "id": "Jil1Wy8Wjmh5"
      }
    },
    {
      "cell_type": "code",
      "source": [
        "n0 = 7\n",
        "r_i=np.array([0.05, -0.02, 0.12, 0.07, -0.04, 0.11, 0.09])"
      ],
      "metadata": {
        "id": "Lmal31wQjkZd"
      },
      "execution_count": null,
      "outputs": []
    },
    {
      "cell_type": "code",
      "source": [
        "Ravg=(np.prod(1+r_i)) ** (1/n0) - 1\n",
        "print(round(Ravg, 4))"
      ],
      "metadata": {
        "colab": {
          "base_uri": "https://localhost:8080/"
        },
        "id": "xxavYBbAoD8h",
        "outputId": "cd8a6558-51c6-4421-fa43-e42424c2a48d"
      },
      "execution_count": null,
      "outputs": [
        {
          "output_type": "stream",
          "name": "stdout",
          "text": [
            "0.0527\n"
          ]
        }
      ]
    },
    {
      "cell_type": "markdown",
      "source": [
        "Ожидаемый результат (будующая доходность) инвест.фонда через 5 лет (n = 5) определим по формуле:\n",
        "\n",
        "$$FVfund= PVfund * (1 + Ravg) ^ n, где: $$\n",
        "\n",
        "$PVfund$ - текущая стоимость инвестиций, <br>\n",
        "$Ravg$ - средняя доходность инвест. фонда в доли ед., <br>\n",
        "$n$ - интервал времени, количество лет"
      ],
      "metadata": {
        "id": "vZBegWOKpa9l"
      }
    },
    {
      "cell_type": "code",
      "source": [
        "PVfund = 100000\n",
        "n1 = 5"
      ],
      "metadata": {
        "id": "ylWOtfMzrZe2"
      },
      "execution_count": null,
      "outputs": []
    },
    {
      "cell_type": "code",
      "source": [
        "FVfund = PVfund*(1 + Ravg) ** n1\n",
        "print(round(FVfund, 2))"
      ],
      "metadata": {
        "colab": {
          "base_uri": "https://localhost:8080/"
        },
        "id": "9zAhNjQPq2ZJ",
        "outputId": "194c6d1d-afb7-4487-d36d-ffb289147d9b"
      },
      "execution_count": null,
      "outputs": [
        {
          "output_type": "stream",
          "name": "stdout",
          "text": [
            "129257.46\n"
          ]
        }
      ]
    },
    {
      "cell_type": "markdown",
      "source": [
        "**Ответ:** Ожидаемый результат (будующая доходность) инвест.фонда через 5 лет  составит: 129 257.46 $"
      ],
      "metadata": {
        "id": "uHSFIcJTry_U"
      }
    },
    {
      "cell_type": "markdown",
      "source": [
        "**Задача 3.** В инвестиционном анализе есть т.н. показатель Шарпа, который характеризует эффективность инвестиции в фонд. Он рассчитывается как отношение средней доходности к риску (волатильности). Рассчитайте этот коэффициент для условий задачи 2."
      ],
      "metadata": {
        "id": "yNOudee-8vPk"
      }
    },
    {
      "cell_type": "markdown",
      "source": [
        "Коэффициент Шарпа определим по формуле:\n",
        "\n",
        "$$S = \\frac{Ravg}{\\sigma}, где: $$\n",
        "\n",
        "где:\n",
        "\n",
        "- $Ravg$ - геометрическое среднее годовых доходностей (из задачи №2 Ravg = 5.27%)\n",
        "- $\\sigma$ - стандартное отклонение доходности портфеля"
      ],
      "metadata": {
        "id": "XFv9Nl5UuYuB"
      }
    },
    {
      "cell_type": "code",
      "source": [
        "Ravg = 5.27\n",
        "sigma = np.std(r_i, ddof=1) * 100"
      ],
      "metadata": {
        "id": "OZNyGcDGCRdA"
      },
      "execution_count": null,
      "outputs": []
    },
    {
      "cell_type": "code",
      "source": [
        "print(round(sigma, 2))"
      ],
      "metadata": {
        "colab": {
          "base_uri": "https://localhost:8080/"
        },
        "id": "PmUO4kjVChSe",
        "outputId": "e1c338d6-78bc-4754-f566-2d35e5316adc"
      },
      "execution_count": null,
      "outputs": [
        {
          "output_type": "stream",
          "name": "stdout",
          "text": [
            "6.24\n"
          ]
        }
      ]
    },
    {
      "cell_type": "code",
      "source": [
        "S = Ravg / sigma\n",
        "print(round(S, 2))"
      ],
      "metadata": {
        "colab": {
          "base_uri": "https://localhost:8080/"
        },
        "id": "Al19Elj_C_ks",
        "outputId": "f1b264b4-454b-4f57-ace9-980ddf44e279"
      },
      "execution_count": null,
      "outputs": [
        {
          "output_type": "stream",
          "name": "stdout",
          "text": [
            "0.84\n"
          ]
        }
      ]
    },
    {
      "cell_type": "markdown",
      "source": [
        "**Ответ:** Коэффициент Шарпа равен 0.84"
      ],
      "metadata": {
        "id": "jeNRMmMeDkN1"
      }
    },
    {
      "cell_type": "markdown",
      "source": [
        "**Задача 4.** Компания по страхованию автомобилей разделяет водителей по трем категориям в зависимости от опыта: категория 1 (стаж вождения более 10 лет), категория 2 (стаж более 2 лет, но меньше 10), категория 3 (стаж менее 2 лет). Для данной компании среди 100% застрахованных 30% принадлежат категории 1, 50% – категории 2, 20% – категории 3. Вероятность того, что в течение года водитель категории 1 попадет хотя бы в одно ДТП равна 1%; для водителя категории 2 - 3%, а для водителя категории 3 – 10%. Клиент компании застраховал автомобиль и попал в ДТП. Какова вероятность того, что он относится к категории 1?"
      ],
      "metadata": {
        "id": "0FEoghpn8vZ3"
      }
    },
    {
      "cell_type": "markdown",
      "source": [
        "Воспользуемся теоремой Байеса, которая  описывает вероятность события А на основе информации о некоторых условиях В, которые связаны\n",
        "с наступлением события:\n",
        "\n",
        "$$P(A|B) = \\frac{P(A1) * P(B|A1)}{P(B)}, где: $$\n",
        "\n",
        "P(A|B) - вероятность того, что водитель относится к категории 1, если он попал в ДТП; <br>\n",
        "P(A) - вероятность того, что водитель относится к категории 1;<br>\n",
        "P(B|A) - вероятность того, что водитель попал в ДТП, если он относится к категории 1;<br>\n",
        "P(B) - общая (полная) вероятность попадания в ДТП, определим по следующей формуле:<br>\n",
        "\n",
        "$$P(B) =  P(B|A1) * P(A1) + P(B|A2) * P(A2) + P(B|A3) * P(A3)$$"
      ],
      "metadata": {
        "id": "sdliRCPiuZf2"
      }
    },
    {
      "cell_type": "code",
      "source": [
        "P_BA1 = 0.01\n",
        "P_BA2 = 0.03\n",
        "P_BA3 = 0.10\n",
        "P_A1 = 0.3\n",
        "P_A2 = 0.5\n",
        "P_A3 = 0.2"
      ],
      "metadata": {
        "id": "KLA_jToquZUj"
      },
      "execution_count": null,
      "outputs": []
    },
    {
      "cell_type": "code",
      "source": [
        "P_B = P_BA1 * P_A1 + P_BA2 * P_A2 + P_BA3 * P_A3\n",
        "print(round(P_B, 3))"
      ],
      "metadata": {
        "colab": {
          "base_uri": "https://localhost:8080/"
        },
        "id": "4NijY_DHSPRX",
        "outputId": "2100b397-c2b3-4c03-8949-b5e9443fae86"
      },
      "execution_count": null,
      "outputs": [
        {
          "output_type": "stream",
          "name": "stdout",
          "text": [
            "0.038\n"
          ]
        }
      ]
    },
    {
      "cell_type": "code",
      "source": [
        "P_AB = (P_A1 * P_BA1) / P_B\n",
        "print(round(P_AB, 3) * 100)"
      ],
      "metadata": {
        "colab": {
          "base_uri": "https://localhost:8080/"
        },
        "id": "TKJzPVC0MvrZ",
        "outputId": "aa59f1ba-2cc3-4bdc-e774-ff1a24024a79"
      },
      "execution_count": null,
      "outputs": [
        {
          "output_type": "stream",
          "name": "stdout",
          "text": [
            "7.9\n"
          ]
        }
      ]
    },
    {
      "cell_type": "markdown",
      "source": [
        "**Ответ:** Вероятность того, что водитель, попавший в ДТП, относится к категории 1, составляет 7.9%."
      ],
      "metadata": {
        "id": "D2NOvrGhS7Mu"
      }
    },
    {
      "cell_type": "markdown",
      "source": [
        "**Задача 5.** Аналитик собрал статистические данные между ценой акции перерабатывающей компании и ценой ресурса, который эта компания перерабатывает:<br>\n",
        "Месяц 1 2 3 4 5 6 7 8 9 10 11 12<br>\n",
        "Цена акции, в долларах: 12,1 15,2 15,3 15,7 15,2 16,1 16,5 17,1 17,2 17,0 16,8 16,9<br>\n",
        "Цена ресурса, в долларах: 115,0 119,0 121,0 130,0 131,0 150,0 155,0 172,0 174,0 168,0 161,0 159,0<br>\n",
        "И предположил, что цена акции зависит от цены ресурса с задержкой на 1 месяц. Определить уравнение регрессии для этого предположения и сделать на его основе прогноз цены акции на 13 месяц."
      ],
      "metadata": {
        "id": "SLWqmASz8vht"
      }
    },
    {
      "cell_type": "markdown",
      "source": [
        "Для того, чтобы сделать прогноз цены акции на 13 месяц, воспользуемся методом\n",
        "наименьших квадратов для линейной регрессии.\n",
        "По методу наименьших квадратов первоначально определяем вид предполагаемой зависимости, простейшая модель зависимости y = f(x) это линейная модель, когда:<br> $$y = a + bx, где: $$\n",
        "\n",
        "y - цена акции;<br>\n",
        "x- цена ресурса с задержкой на 1 месяц;<br>\n",
        "a и b - коэффициенты регрессии (неизвестные параметры).\n",
        "\n",
        "Для нахождения коэффициентов a и b, воспользуемся  следующими формулами:\n",
        "\n",
        "$$b = \\frac{n \\sum_{i=1}^n (x_i y_i) - \\sum_{i=1}^n x_i \\sum_{i=1}^n y_i}{n \\sum_{i=1}^n x_i^2 - (\\sum_{i=1}^n x_i)^2}$$\n",
        "\n",
        "$$a = \\frac{\\sum_{i=1}^n y_i - b \\sum_{i=1}^n x_i}{n}$$"
      ],
      "metadata": {
        "id": "B-OicpWXubtu"
      }
    },
    {
      "cell_type": "code",
      "execution_count": 8,
      "metadata": {
        "id": "M6O_VEjW_N30"
      },
      "outputs": [],
      "source": [
        "stock_prices = np.array([12.1, 15.2, 15.3, 15.7, 15.2, 16.1, 16.5, 17.1, 17.2, 17.0, 16.8, 16.9])\n",
        "resource_prices = np.array([115.0, 119.0, 121.0, 130.0, 131.0, 150.0, 155.0, 172.0, 174.0, 168.0, 161.0, 159.0])"
      ]
    },
    {
      "cell_type": "markdown",
      "source": [
        "Предполагаем задержку в 1 месяц:"
      ],
      "metadata": {
        "id": "3I1u_fjMrVoX"
      }
    },
    {
      "cell_type": "code",
      "source": [
        "resource_prices_moved = resource_prices[:-1]\n",
        "stock_prices_moved = stock_prices[1:]\n",
        "n = len(resource_prices_moved)"
      ],
      "metadata": {
        "id": "je2G-bgJpbft"
      },
      "execution_count": 7,
      "outputs": []
    },
    {
      "cell_type": "markdown",
      "source": [
        "Найдем коэффициенты a и b:"
      ],
      "metadata": {
        "id": "Uvzzg6SQsCEa"
      }
    },
    {
      "cell_type": "code",
      "source": [
        "b = (n * np.sum(resource_prices_moved * stock_prices_moved) - np.sum(resource_prices_moved) * np.sum(stock_prices_moved)) / (n * np.sum(resource_prices_moved**2) - np.sum(resource_prices_moved)**2)\n",
        "a = (np.sum(stock_prices_moved) - b * np.sum(resource_prices_moved)) / n\n",
        "print((round(a,2)), (round(b,2)))"
      ],
      "metadata": {
        "colab": {
          "base_uri": "https://localhost:8080/"
        },
        "id": "EYPSXBuGsBAd",
        "outputId": "7195f3ce-62ad-4952-c5d9-fa84f20a45e1"
      },
      "execution_count": 20,
      "outputs": [
        {
          "output_type": "stream",
          "name": "stdout",
          "text": [
            "11.47 0.03\n"
          ]
        }
      ]
    },
    {
      "cell_type": "markdown",
      "source": [
        "Прогноз цены акции на 13 месяц:"
      ],
      "metadata": {
        "id": "f7bMT9MSsC12"
      }
    },
    {
      "cell_type": "code",
      "source": [
        "predicted_stock_price = a + b * resource_prices[-1]\n",
        "print(round(predicted_stock_price, 2))"
      ],
      "metadata": {
        "colab": {
          "base_uri": "https://localhost:8080/"
        },
        "id": "EWtkJZCOsvAd",
        "outputId": "c6ed55b6-acc7-4380-9402-a53637e01ccc"
      },
      "execution_count": 10,
      "outputs": [
        {
          "output_type": "stream",
          "name": "stdout",
          "text": [
            "16.73\n"
          ]
        }
      ]
    },
    {
      "cell_type": "markdown",
      "source": [
        "**Ответ:** Прогноз цены акции на 13 месяц составляет: 16.73 $"
      ],
      "metadata": {
        "id": "Un0bHkgvt2Cw"
      }
    }
  ]
}